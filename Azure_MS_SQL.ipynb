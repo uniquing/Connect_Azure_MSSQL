{
 "cells": [
  {
   "cell_type": "code",
   "execution_count": 19,
   "metadata": {},
   "outputs": [
    {
     "name": "stdout",
     "output_type": "stream",
     "text": [
      "Requirement already satisfied: pyodbc in c:\\anaconda\\lib\\site-packages (4.0.0-unsupported)\n"
     ]
    }
   ],
   "source": [
    "!pip install pyodbc"
   ]
  },
  {
   "cell_type": "code",
   "execution_count": 107,
   "metadata": {},
   "outputs": [],
   "source": [
    "import pyodbc\n",
    "# ODBC Driver 17 for SQL Server not working can't know the reason\n",
    "# Change to use SQL Server Native Client 11.0\n",
    "conn = pyodbc.connect('Driver={SQL Server Native Client 11.0}', \n",
    "                      server='{servername}.database.windows.net', \n",
    "                      user='{name}', password='{pasw}',database='{database_name}')\n",
    "cursor = conn.cursor()"
   ]
  },
  {
   "cell_type": "code",
   "execution_count": null,
   "metadata": {},
   "outputs": [],
   "source": [
    "#select query\n",
    "\n",
    "for row in cursor.tables():\n",
    "    print(row.table_name)"
   ]
  },
  {
   "cell_type": "code",
   "execution_count": 110,
   "metadata": {},
   "outputs": [],
   "source": [
    "import pandas as pd"
   ]
  },
  {
   "cell_type": "code",
   "execution_count": 125,
   "metadata": {},
   "outputs": [],
   "source": [
    "order_wal_100 = pd.read_csv(r\"your file path\")\n",
    "order_wal_all = pd.read_csv(r\"your file path\")"
   ]
  },
  {
   "cell_type": "code",
   "execution_count": 126,
   "metadata": {
    "scrolled": true
   },
   "outputs": [],
   "source": [
    "# There's wondering, but seems data can't not be null or empty\n",
    "# So fill the NA value with '-1'\n",
    "\n",
    "order_wal_100 = order_wal_100.drop('Unnamed: 0',axis=1)\n",
    "order_wal_100 = order_wal_100.fillna(value=-1)"
   ]
  },
  {
   "cell_type": "code",
   "execution_count": 129,
   "metadata": {},
   "outputs": [
    {
     "data": {
      "text/plain": [
       "<pyodbc.Cursor at 0x11d61e74630>"
      ]
     },
     "execution_count": 129,
     "metadata": {},
     "output_type": "execute_result"
    }
   ],
   "source": [
    "# Create table ,define the columns name and decide the variable\n",
    "\n",
    "sql_query='''CREATE TABLE order_100 (Email_id nvarchar(MAX), customerOrderId decimal, orderDate datetime, \n",
    "chargeAmount decimal(9,2), currency varchar(10), chargeName varchar(20), chargeType varchar(20), fulfillmentOption varchar(10), \n",
    "pickUpBy varchar(50), pickUpDateTime datetime, shipMethod varchar(20), shippingProgramType int, storeId int, \n",
    "productName varchar(200), sku nvarchar(100), cancellationReason int, refund int, order_statusdate datetime,\n",
    "purchaseOrderId decimal, shiptype varchar(50), postalCode int, shipping_city varchar(50), state varchar(10), shipping_country varchar(10))                    \n",
    "          '''\n",
    "cursor.execute(sql_query)"
   ]
  },
  {
   "cell_type": "code",
   "execution_count": 140,
   "metadata": {},
   "outputs": [],
   "source": [
    "# Insert the dateframe data into the database\n",
    "\n",
    "for index, row in order_wal_100.iterrows():\n",
    "    cursor.execute('''\n",
    "                INSERT INTO dbo.order_100 ([Email_id], [customerOrderId], [orderDate], [chargeAmount], \n",
    "                [currency], [chargeName], [chargeType], [fulfillmentOption], [pickUpBy], [pickUpDateTime], \n",
    "                [shipMethod], [shippingProgramType], [storeId], [productName], [sku], [cancellationReason],\n",
    "                [refund], [order_statusdate], [purchaseOrderId], [shiptype], [postalCode], [shipping_city], [state], [shipping_country]) \n",
    "                values(?,?,?,?,?,?,?,?,?,?,?,?,?,?,?,?,?,?,?,?,?,?,?,?)''', \n",
    "                row['Email_id'], row['customerOrderId'], row['orderDate'], row['chargeAmount'], row['currency'], row['chargeName'], \n",
    "                row['chargeType'], row['fulfillmentOption'], row['pickUpBy'], row['pickUpDateTime'], row['shipMethod'], \n",
    "                row['shippingProgramType'], row['storeId'], row['productName'], row['sku'], row['cancellationReason'], row['refund'], \n",
    "                row['order_statusdate'], row['purchaseOrderId'], row['shiptype'], row['postalCode'], row['shipping_city'], row['state'], row['shipping_country']\n",
    "                  )\n",
    "conn.commit()"
   ]
  },
  {
   "cell_type": "code",
   "execution_count": 141,
   "metadata": {},
   "outputs": [
    {
     "name": "stdout",
     "output_type": "stream",
     "text": [
      "(100, )\n"
     ]
    }
   ],
   "source": [
    "# Confirm the database have the file we inserted\n",
    "\n",
    "select_query='''SELECT count(*) from {database_name}.dbo.order_100;'''\n",
    "cursor.execute(select_query)\n",
    "for row in cursor:\n",
    "    print(row)"
   ]
  },
  {
   "cell_type": "code",
   "execution_count": 142,
   "metadata": {},
   "outputs": [],
   "source": [
    "order_wal_all = order_wal_all.drop('Unnamed: 0',axis=1)\n",
    "order_wal_all = order_wal_all.fillna(value=-1)"
   ]
  },
  {
   "cell_type": "code",
   "execution_count": 144,
   "metadata": {},
   "outputs": [
    {
     "data": {
      "text/plain": [
       "<pyodbc.Cursor at 0x11d61e74630>"
      ]
     },
     "execution_count": 144,
     "metadata": {},
     "output_type": "execute_result"
    }
   ],
   "source": [
    "sql_query='''CREATE TABLE order_all (Email_id nvarchar(MAX), customerOrderId decimal, orderDate datetime, \n",
    "chargeAmount decimal(9,2), currency varchar(10), chargeName varchar(20), chargeType varchar(20), fulfillmentOption varchar(10), \n",
    "pickUpBy varchar(50), pickUpDateTime datetime, shipMethod varchar(20), shippingProgramType int, storeId int, \n",
    "productName varchar(200), sku nvarchar(100), cancellationReason int, refund int, order_statusdate datetime,\n",
    "purchaseOrderId decimal, shiptype varchar(50), postalCode int, shipping_city varchar(50), state varchar(10), shipping_country varchar(10))                     \n",
    "          '''\n",
    "cursor.execute(sql_query)"
   ]
  },
  {
   "cell_type": "code",
   "execution_count": 146,
   "metadata": {},
   "outputs": [],
   "source": [
    "for row in order_wal_all.itertuples():\n",
    "    cursor.execute('''\n",
    "                INSERT INTO {database_name}.dbo.order_all (Email_id, customerOrderId, orderDate, chargeAmount, \n",
    "                currency, chargeName, chargeType, fulfillmentOption, pickUpBy, pickUpDateTime, \n",
    "                shipMethod, shippingProgramType, storeId, productName, sku, cancellationReason,\n",
    "                refund, order_statusdate, purchaseOrderId, shiptype, postalCode, shipping_city, state, shipping_country) \n",
    "                values(?,?,?,?,?,?,?,?,?,?,?,?,?,?,?,?,?,?,?,?,?,?,?,?)''', \n",
    "                row.Email_id, row.customerOrderId, row.orderDate, row.chargeAmount, row.currency, row.chargeName, \n",
    "                row.chargeType, row.fulfillmentOption, row.pickUpBy, row.pickUpDateTime, row.shipMethod, \n",
    "                row.shippingProgramType, row.storeId, row.productName, row.sku, row.cancellationReason, row.refund, \n",
    "                row.order_statusdate, row.purchaseOrderId, row.shiptype, row.postalCode, row.shipping_city, row.state, row.shipping_country\n",
    "                  )\n",
    "conn.commit()"
   ]
  },
  {
   "cell_type": "code",
   "execution_count": 147,
   "metadata": {},
   "outputs": [
    {
     "name": "stdout",
     "output_type": "stream",
     "text": [
      "(181, )\n"
     ]
    }
   ],
   "source": [
    "select_query='''SELECT count(*) from {database_name}.dbo.order_all;'''\n",
    "cursor.execute(select_query)\n",
    "for row in cursor:\n",
    "    print(row)"
   ]
  }
 ],
 "metadata": {
  "kernelspec": {
   "display_name": "Python 3",
   "language": "python",
   "name": "python3"
  },
  "language_info": {
   "codemirror_mode": {
    "name": "ipython",
    "version": 3
   },
   "file_extension": ".py",
   "mimetype": "text/x-python",
   "name": "python",
   "nbconvert_exporter": "python",
   "pygments_lexer": "ipython3",
   "version": "3.7.6"
  }
 },
 "nbformat": 4,
 "nbformat_minor": 4
}
